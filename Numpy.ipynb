{
 "cells": [
  {
   "cell_type": "markdown",
   "metadata": {},
   "source": [
    "### Data Analysis using Python ###"
   ]
  },
  {
   "cell_type": "code",
   "execution_count": 2,
   "metadata": {},
   "outputs": [],
   "source": [
    "import numpy as np"
   ]
  },
  {
   "cell_type": "code",
   "execution_count": 9,
   "metadata": {},
   "outputs": [
    {
     "name": "stdout",
     "output_type": "stream",
     "text": [
      "[1 2 3 4 5]\n",
      "(5,)\n"
     ]
    }
   ],
   "source": [
    "# Creating Arrays using Numpy\n",
    "# 1 - dimensional array\n",
    "arr1 = np.array([1, 2, 3, 4, 5])    \n",
    "print(arr1)\n",
    "print(arr1.shape)   # Returns the shape of the array"
   ]
  },
  {
   "cell_type": "code",
   "execution_count": 11,
   "metadata": {},
   "outputs": [
    {
     "data": {
      "text/plain": [
       "array([[1, 2, 3, 4, 5]])"
      ]
     },
     "execution_count": 11,
     "metadata": {},
     "output_type": "execute_result"
    }
   ],
   "source": [
    "arr1.reshape(1, 5)  # 1 row and 5 columns"
   ]
  },
  {
   "cell_type": "code",
   "execution_count": 17,
   "metadata": {},
   "outputs": [
    {
     "name": "stdout",
     "output_type": "stream",
     "text": [
      "[[1 2 3 4 5]\n",
      " [2 3 4 5 6]]\n",
      "Number of dimensions: 2\n"
     ]
    }
   ],
   "source": [
    "# 2 - dimensional array\n",
    "arr2 = np.array([[1, 2, 3, 4, 5], [2, 3, 4, 5, 6]])\n",
    "print(arr2)\n",
    "print(f\"Number of dimensions: {arr2.ndim}\")\n"
   ]
  },
  {
   "cell_type": "code",
   "execution_count": 14,
   "metadata": {},
   "outputs": [
    {
     "data": {
      "text/plain": [
       "array([[0],\n",
       "       [2],\n",
       "       [4],\n",
       "       [6],\n",
       "       [8]])"
      ]
     },
     "execution_count": 14,
     "metadata": {},
     "output_type": "execute_result"
    }
   ],
   "source": [
    "# Creating arrays using in-built functions\n",
    "np.arange(0, 10, 2).reshape(5, 1)"
   ]
  },
  {
   "cell_type": "code",
   "execution_count": 15,
   "metadata": {},
   "outputs": [
    {
     "data": {
      "text/plain": [
       "array([[1., 0., 0., 0.],\n",
       "       [0., 1., 0., 0.],\n",
       "       [0., 0., 1., 0.],\n",
       "       [0., 0., 0., 1.]])"
      ]
     },
     "execution_count": 15,
     "metadata": {},
     "output_type": "execute_result"
    }
   ],
   "source": [
    "# Identity Matrix\n",
    "np.eye(4)\n"
   ]
  },
  {
   "cell_type": "code",
   "execution_count": 22,
   "metadata": {},
   "outputs": [
    {
     "name": "stdout",
     "output_type": "stream",
     "text": [
      "Square Root: [ 6.          7.74596669  9.48683298 10.95445115 13.41640786]\n",
      "Exponential:  [4.31123155e+15 1.14200739e+26 1.22040329e+39 1.30418088e+52\n",
      " 1.48938420e+78]\n",
      "Sine:  [-0.99177885 -0.30481062  0.89399666  0.58061118 -0.80115264]\n"
     ]
    }
   ],
   "source": [
    "# Universal Functions\n",
    "arr = np.array([36, 60, 90, 120, 180])\n",
    "print(\"Square Root:\", np.sqrt(arr))\n",
    "print(\"Exponential: \", np.exp(arr))\n",
    "print(\"Sine: \", np.sin(arr))"
   ]
  },
  {
   "cell_type": "code",
   "execution_count": 26,
   "metadata": {},
   "outputs": [
    {
     "name": "stdout",
     "output_type": "stream",
     "text": [
      "Array: \n",
      " [[1 2 3 4]\n",
      " [5 6 7 8]\n",
      " [4 5 6 7]]\n",
      "[[7 8]\n",
      " [6 7]]\n"
     ]
    }
   ],
   "source": [
    "## Slicing and Indexing\n",
    "arr = np.array([[1, 2, 3 , 4], [5, 6, 7, 8], [4, 5, 6, 7]])\n",
    "print(\"Array: \\n\", arr)\n",
    "print(arr[1:, 2:])"
   ]
  },
  {
   "cell_type": "code",
   "execution_count": 27,
   "metadata": {},
   "outputs": [
    {
     "name": "stdout",
     "output_type": "stream",
     "text": [
      "Normalized Data:  [-1.41421356 -0.70710678  0.          0.70710678  1.41421356]\n"
     ]
    }
   ],
   "source": [
    "# Statistical Concept -> Normalization\n",
    "# To have a mean of 0 and Standard Deviation of 1\n",
    "data = np.array([1, 2, 3, 4, 5])\n",
    "\n",
    "# Calculate mean and std_dev\n",
    "mean = np.mean(data)\n",
    "std_dev = np.std(data)\n",
    "\n",
    "# Normalize the Data\n",
    "normalized_data = (data - mean) / std_dev\n",
    "print(\"Normalized Data: \", normalized_data)"
   ]
  },
  {
   "cell_type": "code",
   "execution_count": 34,
   "metadata": {},
   "outputs": [
    {
     "name": "stdout",
     "output_type": "stream",
     "text": [
      "[6 7 8]\n"
     ]
    }
   ],
   "source": [
    "# Logical Operations\n",
    "data = np.array([1, 2, 3, 4, 5, 6, 7, 8, 9, 10])\n",
    "print(data[(data > 5) & (data < 9)])"
   ]
  }
 ],
 "metadata": {
  "kernelspec": {
   "display_name": "base",
   "language": "python",
   "name": "python3"
  },
  "language_info": {
   "codemirror_mode": {
    "name": "ipython",
    "version": 3
   },
   "file_extension": ".py",
   "mimetype": "text/x-python",
   "name": "python",
   "nbconvert_exporter": "python",
   "pygments_lexer": "ipython3",
   "version": "3.11.3"
  }
 },
 "nbformat": 4,
 "nbformat_minor": 2
}
