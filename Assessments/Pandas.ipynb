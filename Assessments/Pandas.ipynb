{
 "cells": [
  {
   "cell_type": "markdown",
   "metadata": {},
   "source": [
    "# Module: Pandas Assignments\n",
    "## Lesson: Pandas\n",
    "### Assignment 1: DataFrame Creation and Indexing\n",
    "\n",
    "1. Create a Pandas DataFrame with 4 columns and 6 rows filled with random integers. Set the index to be the first column."
   ]
  },
  {
   "cell_type": "code",
   "execution_count": 2,
   "metadata": {},
   "outputs": [
    {
     "name": "stdout",
     "output_type": "stream",
     "text": [
      "Original Dataframe: \n",
      "    A   B   C   D\n",
      "0  53  44  87  97\n",
      "1  81  26  91  31\n",
      "2  75   1  78   3\n",
      "3  23  63  62  66\n",
      "4  20  33   6  10\n",
      "5  11  43   4  69\n",
      "Dataframe with new index: \n",
      "     B   C   D\n",
      "A             \n",
      "53  44  87  97\n",
      "81  26  91  31\n",
      "75   1  78   3\n",
      "23  63  62  66\n",
      "20  33   6  10\n",
      "11  43   4  69\n"
     ]
    },
    {
     "name": "stderr",
     "output_type": "stream",
     "text": [
      "/Users/bengj/anaconda3/lib/python3.11/site-packages/pandas/core/arrays/masked.py:60: UserWarning: Pandas requires version '1.3.6' or newer of 'bottleneck' (version '1.3.5' currently installed).\n",
      "  from pandas.core import (\n"
     ]
    }
   ],
   "source": [
    "import numpy as np\n",
    "import pandas as pd\n",
    "\n",
    "df = pd.DataFrame(np.random.randint(1, 100, size = (6, 4)), columns = ['A', 'B', 'C', 'D'])\n",
    "print(\"Original Dataframe: \")\n",
    "print(df)\n",
    "\n",
    "# Setting index to first column\n",
    "df.set_index('A', inplace = True)\n",
    "print(\"Dataframe with new index: \")\n",
    "print(df)"
   ]
  },
  {
   "cell_type": "markdown",
   "metadata": {},
   "source": [
    "2. Create a Pandas DataFrame with columns 'A', 'B', 'C' and index 'X', 'Y', 'Z'. Fill the DataFrame with random integers and access the element at row 'Y' and column 'B'."
   ]
  },
  {
   "cell_type": "code",
   "execution_count": 5,
   "metadata": {},
   "outputs": [
    {
     "name": "stdout",
     "output_type": "stream",
     "text": [
      "Original Dataframe: \n",
      "    A   B   C\n",
      "X  88  55  78\n",
      "Y  30  23  13\n",
      "Z   8  77   8\n",
      "Element: 23\n"
     ]
    }
   ],
   "source": [
    "df = pd.DataFrame(np.random.randint(1, 100, size = (3, 3)), columns = ['A', 'B', 'C'], index = ['X', 'Y', 'Z'])\n",
    "print(\"Original Dataframe: \")\n",
    "print(df)\n",
    "\n",
    "# Accessing element row 'Y' and column 'B'\n",
    "element = df.at['Y', 'B']\n",
    "print(\"Element:\", element)"
   ]
  },
  {
   "cell_type": "markdown",
   "metadata": {},
   "source": [
    "### Assignment 2: DataFrame Operations\n",
    "\n",
    "1. Create a Pandas DataFrame with 3 columns and 5 rows filled with random integers. Add a new column that is the product of the first two columns."
   ]
  },
  {
   "cell_type": "code",
   "execution_count": 8,
   "metadata": {},
   "outputs": [
    {
     "name": "stdout",
     "output_type": "stream",
     "text": [
      "Original Dataframe: \n",
      "    A   B   C\n",
      "0   8  46  37\n",
      "1  27  36  56\n",
      "2  26  25  89\n",
      "3  28  51  50\n",
      "4   7   8  91\n",
      "DataFrame with new column:\n",
      "    A   B   C     D\n",
      "0   8  46  37   368\n",
      "1  27  36  56   972\n",
      "2  26  25  89   650\n",
      "3  28  51  50  1428\n",
      "4   7   8  91    56\n"
     ]
    }
   ],
   "source": [
    "df = pd.DataFrame(np.random.randint(1, 100, size = (5, 3)), columns = ['A', 'B', 'C'])\n",
    "print(\"Original Dataframe: \")\n",
    "print(df)\n",
    "\n",
    "# Adding a new column that is the product of the first two columns\n",
    "df['D'] = df['A'] * df['B']\n",
    "print(\"DataFrame with new column:\")\n",
    "print(df)"
   ]
  },
  {
   "cell_type": "markdown",
   "metadata": {},
   "source": [
    "2. Create a Pandas DataFrame with 3 columns and 4 rows filled with random integers. Compute the row-wise and column-wise sum."
   ]
  },
  {
   "cell_type": "code",
   "execution_count": 9,
   "metadata": {},
   "outputs": [
    {
     "name": "stdout",
     "output_type": "stream",
     "text": [
      "Original DataFrame:\n",
      "    A   B   C\n",
      "0  66  91   5\n",
      "1  22  41  68\n",
      "2  22  49  57\n",
      "3  99  55  68\n",
      "Row-wise sum:\n",
      "0    162\n",
      "1    131\n",
      "2    128\n",
      "3    222\n",
      "dtype: int64\n",
      "Column-wise sum:\n",
      "A    209\n",
      "B    236\n",
      "C    198\n",
      "dtype: int64\n"
     ]
    }
   ],
   "source": [
    "df = pd.DataFrame(np.random.randint(1, 100, size=(4, 3)), columns=['A', 'B', 'C'])\n",
    "print(\"Original DataFrame:\")\n",
    "print(df)\n",
    "\n",
    "row_sum = df.sum(axis = 1)\n",
    "column_sum = df.sum(axis = 0)\n",
    "print(\"Row-wise sum:\")\n",
    "print(row_sum)\n",
    "print(\"Column-wise sum:\")\n",
    "print(column_sum)"
   ]
  },
  {
   "cell_type": "markdown",
   "metadata": {},
   "source": [
    "### Assignment 3: Data Cleaning\n",
    "\n",
    "1. Create a Pandas DataFrame with 3 columns and 5 rows filled with random integers. Introduce some NaN values. Fill the NaN values with the mean of the respective columns."
   ]
  },
  {
   "cell_type": "code",
   "execution_count": 15,
   "metadata": {},
   "outputs": [
    {
     "name": "stdout",
     "output_type": "stream",
     "text": [
      "Original DataFrame:\n",
      "    A   B   C\n",
      "0  83  62  76\n",
      "1  77  48  23\n",
      "2  92  61  54\n",
      "3  69  39  27\n",
      "4  91  14  49\n",
      "DataFrame with NaN values:\n",
      "      A     B     C\n",
      "0  83.0   NaN  76.0\n",
      "1  77.0  48.0  23.0\n",
      "2  92.0  61.0   NaN\n",
      "3  69.0  39.0  27.0\n",
      "4   NaN  14.0  49.0\n",
      "DataFrame after filling NaN values: \n",
      "       A     B      C\n",
      "0  83.00  40.5  76.00\n",
      "1  77.00  48.0  23.00\n",
      "2  92.00  61.0  43.75\n",
      "3  69.00  39.0  27.00\n",
      "4  80.25  14.0  49.00\n"
     ]
    }
   ],
   "source": [
    "df = pd.DataFrame(np.random.randint(1, 100, size=(5, 3)), columns=['A', 'B', 'C'])\n",
    "print(\"Original DataFrame:\")\n",
    "print(df)\n",
    "\n",
    "# Introduce some NaN values\n",
    "df.iloc[0, 1] = np.nan\n",
    "df.iloc[2, 2] = np.nan\n",
    "df.iloc[4, 0] = np.nan\n",
    "print(\"DataFrame with NaN values:\")\n",
    "print(df)\n",
    "\n",
    "df.fillna(df.mean(), inplace = True)\n",
    "print('DataFrame after filling NaN values: ')\n",
    "print(df)"
   ]
  },
  {
   "cell_type": "markdown",
   "metadata": {},
   "source": [
    "2. Create a Pandas DataFrame with 4 columns and 6 rows filled with random integers. Introduce some NaN values. Drop the rows with any NaN values."
   ]
  },
  {
   "cell_type": "code",
   "execution_count": 16,
   "metadata": {},
   "outputs": [
    {
     "name": "stdout",
     "output_type": "stream",
     "text": [
      "Original DataFrame:\n",
      "    A   B   C   D\n",
      "0   1  52  91  70\n",
      "1  52  97  36  31\n",
      "2  18  19  61  26\n",
      "3  46  78  82  84\n",
      "4  52  52  77  32\n",
      "5  33  23  98  49\n",
      "DataFrame with NaN values:\n",
      "      A     B     C   D\n",
      "0   1.0  52.0  91.0  70\n",
      "1  52.0  97.0   NaN  31\n",
      "2  18.0  19.0  61.0  26\n",
      "3   NaN  78.0  82.0  84\n",
      "4  52.0  52.0  77.0  32\n",
      "5  33.0   NaN  98.0  49\n",
      "DataFrame with NaN values dropped:\n",
      "      A     B     C   D\n",
      "0   1.0  52.0  91.0  70\n",
      "2  18.0  19.0  61.0  26\n",
      "4  52.0  52.0  77.0  32\n"
     ]
    }
   ],
   "source": [
    "# Create a Pandas DataFrame with 4 columns and 6 rows filled with random integers\n",
    "df = pd.DataFrame(np.random.randint(1, 100, size=(6, 4)), columns=['A', 'B', 'C', 'D'])\n",
    "print(\"Original DataFrame:\")\n",
    "print(df)\n",
    "\n",
    "# Introduce some NaN values\n",
    "df.iloc[1, 2] = np.nan\n",
    "df.iloc[3, 0] = np.nan\n",
    "df.iloc[5, 1] = np.nan\n",
    "print(\"DataFrame with NaN values:\")\n",
    "print(df)\n",
    "\n",
    "# Drop the rows with any NaN values\n",
    "df.dropna(inplace=True)\n",
    "print(\"DataFrame with NaN values dropped:\")\n",
    "print(df)"
   ]
  },
  {
   "cell_type": "markdown",
   "metadata": {},
   "source": [
    "### Assignment 4: Data Aggregation\n",
    "\n",
    "1. Create a Pandas DataFrame with 2 columns: 'Category' and 'Value'. Fill the 'Category' column with random categories ('A', 'B', 'C') and the 'Value' column with random integers. Group the DataFrame by 'Category' and compute the sum and mean of 'Value' for each category."
   ]
  },
  {
   "cell_type": "code",
   "execution_count": 23,
   "metadata": {},
   "outputs": [
    {
     "name": "stdout",
     "output_type": "stream",
     "text": [
      "Original Dataframe: \n",
      "  Category  Value\n",
      "0        C     10\n",
      "1        C     17\n",
      "2        A     75\n",
      "3        C     93\n",
      "4        C     19\n",
      "5        A     80\n",
      "6        C     26\n",
      "7        B      5\n",
      "8        C     14\n",
      "9        A     83\n",
      "Grouped DataFrame:\n",
      "          sum       mean\n",
      "Category                \n",
      "A         238  79.333333\n",
      "B           5   5.000000\n",
      "C         179  29.833333\n"
     ]
    }
   ],
   "source": [
    "df = pd.DataFrame({'Category': np.random.choice(['A', 'B', 'C'], size = 10), 'Value': np.random.randint(1, 100, size = 10)})\n",
    "print('Original Dataframe: ')\n",
    "print(df)\n",
    "\n",
    "# Grouping on the basis of sum and mean\n",
    "grouped_df = df.groupby('Category')['Value'].agg(['sum', 'mean'])\n",
    "print(\"Grouped DataFrame:\")\n",
    "print(grouped_df)"
   ]
  },
  {
   "cell_type": "markdown",
   "metadata": {},
   "source": [
    "2. Create a Pandas DataFrame with 3 columns: 'Product', 'Category', and 'Sales'. Fill the DataFrame with random data. Group the DataFrame by 'Category' and compute the total sales for each category."
   ]
  },
  {
   "cell_type": "code",
   "execution_count": 25,
   "metadata": {},
   "outputs": [
    {
     "name": "stdout",
     "output_type": "stream",
     "text": [
      "Original DataFrame:\n",
      "  Product Category  Sales\n",
      "0   Prod1        B     26\n",
      "1   Prod1        A     15\n",
      "2   Prod3        A     41\n",
      "3   Prod1        C     11\n",
      "4   Prod2        B     32\n",
      "5   Prod1        C     97\n",
      "6   Prod2        B     90\n",
      "7   Prod3        A     69\n",
      "8   Prod2        A     37\n",
      "9   Prod2        A     25\n",
      "Grouped DataFrame:\n",
      "Category\n",
      "A    187\n",
      "B    148\n",
      "C    108\n",
      "Name: Sales, dtype: int64\n"
     ]
    }
   ],
   "source": [
    "df = pd.DataFrame({'Product': np.random.choice(['Prod1', 'Prod2', 'Prod3'], size=10), 'Category': np.random.choice(['A', 'B', 'C'], size=10), 'Sales': np.random.randint(1, 100, size=10)})\n",
    "print(\"Original DataFrame:\")\n",
    "print(df)\n",
    "\n",
    "# Group the DataFrame by 'Category' and compute the total sales for each category\n",
    "grouped = df.groupby('Category')['Sales'].sum()\n",
    "print(\"Grouped DataFrame:\")\n",
    "print(grouped)"
   ]
  },
  {
   "cell_type": "markdown",
   "metadata": {},
   "source": [
    "### Assignment 5: Merging DataFrames\n",
    "\n",
    "1. Create two Pandas DataFrames with a common column. Merge the DataFrames using the common column."
   ]
  },
  {
   "cell_type": "code",
   "execution_count": 27,
   "metadata": {},
   "outputs": [
    {
     "name": "stdout",
     "output_type": "stream",
     "text": [
      "DataFrame 1: \n",
      "  Key  Value1\n",
      "0   A      61\n",
      "1   B      49\n",
      "2   C      35\n",
      "3   D      41\n",
      "DataFrame 2: \n",
      "  Key  Value2\n",
      "0   A      20\n",
      "1   B      89\n",
      "2   C      86\n",
      "3   E      83\n",
      "Merged DataFrame: \n",
      "  Key  Value1  Value2\n",
      "0   A      61      20\n",
      "1   B      49      89\n",
      "2   C      35      86\n"
     ]
    }
   ],
   "source": [
    "df1 = pd.DataFrame({'Key': ['A', 'B', 'C', 'D'], 'Value1': np.random.randint(1, 100, size = 4)})\n",
    "df2 = pd.DataFrame({'Key': ['A', 'B', 'C', 'E'], 'Value2': np.random.randint(1, 100, size = 4)})\n",
    "print(\"DataFrame 1: \")\n",
    "print(df1)\n",
    "print(\"DataFrame 2: \")\n",
    "print(df2)\n",
    "\n",
    "# Merge the DataFrames using the common column\n",
    "merged = pd.merge(df1, df2, on = 'Key')\n",
    "print(\"Merged DataFrame: \")\n",
    "print(merged)"
   ]
  },
  {
   "cell_type": "markdown",
   "metadata": {},
   "source": [
    "2. Create two Pandas DataFrames with different columns. Concatenate the DataFrames along the rows and along the columns."
   ]
  },
  {
   "cell_type": "code",
   "execution_count": 28,
   "metadata": {},
   "outputs": [
    {
     "name": "stdout",
     "output_type": "stream",
     "text": [
      "DataFrame 1:\n",
      "    A   B\n",
      "0  52  99\n",
      "1  48   6\n",
      "2  25  34\n",
      "DataFrame 2:\n",
      "    C   D\n",
      "0  58  78\n",
      "1  63  24\n",
      "2  56  44\n",
      "Concatenated DataFrame (rows):\n",
      "      A     B     C     D\n",
      "0  52.0  99.0   NaN   NaN\n",
      "1  48.0   6.0   NaN   NaN\n",
      "2  25.0  34.0   NaN   NaN\n",
      "0   NaN   NaN  58.0  78.0\n",
      "1   NaN   NaN  63.0  24.0\n",
      "2   NaN   NaN  56.0  44.0\n",
      "Concatenated DataFrame (columns):\n",
      "    A   B   C   D\n",
      "0  52  99  58  78\n",
      "1  48   6  63  24\n",
      "2  25  34  56  44\n"
     ]
    }
   ],
   "source": [
    "df1 = pd.DataFrame({'A': np.random.randint(1, 100, size = 3), 'B': np.random.randint(1, 100, size = 3)})\n",
    "df2 = pd.DataFrame({'C': np.random.randint(1, 100, size = 3), 'D': np.random.randint(1, 100, size = 3)})\n",
    "print(\"DataFrame 1:\")\n",
    "print(df1)\n",
    "print(\"DataFrame 2:\")\n",
    "print(df2)\n",
    "\n",
    "# Concatenate the DataFrames along the rows\n",
    "concat_rows = pd.concat([df1, df2], axis = 0)\n",
    "print(\"Concatenated DataFrame (rows):\")\n",
    "print(concat_rows)\n",
    "\n",
    "# Concatenate the DataFrames along the columns\n",
    "concat_columns = pd.concat([df1, df2], axis = 1)\n",
    "print(\"Concatenated DataFrame (columns):\")\n",
    "print(concat_columns)"
   ]
  },
  {
   "cell_type": "markdown",
   "metadata": {},
   "source": [
    "### Assignment 6: Time Series Analysis\n",
    "\n",
    "1. Create a Pandas DataFrame with a datetime index and one column filled with random integers. Resample the DataFrame to compute the monthly mean of the values."
   ]
  },
  {
   "cell_type": "code",
   "execution_count": 29,
   "metadata": {},
   "outputs": [
    {
     "name": "stdout",
     "output_type": "stream",
     "text": [
      "Original DataFrame:\n",
      "            data\n",
      "date            \n",
      "2024-01-01    76\n",
      "2024-01-02    35\n",
      "2024-01-03    88\n",
      "2024-01-04     9\n",
      "2024-01-05    95\n",
      "...          ...\n",
      "2024-12-27    76\n",
      "2024-12-28    98\n",
      "2024-12-29    76\n",
      "2024-12-30    69\n",
      "2024-12-31    40\n",
      "\n",
      "[366 rows x 1 columns]\n",
      "Monthly mean DataFrame:\n",
      "                 data\n",
      "date                 \n",
      "2024-01-31  44.225806\n",
      "2024-02-29  44.827586\n",
      "2024-03-31  32.774194\n",
      "2024-04-30  47.200000\n",
      "2024-05-31  53.677419\n",
      "2024-06-30  47.033333\n",
      "2024-07-31  44.064516\n",
      "2024-08-31  57.000000\n",
      "2024-09-30  43.466667\n",
      "2024-10-31  51.903226\n",
      "2024-11-30  65.200000\n",
      "2024-12-31  54.451613\n"
     ]
    },
    {
     "name": "stderr",
     "output_type": "stream",
     "text": [
      "/var/folders/84/qnl770ks2kvg7mwlfgc5k1cw0000gn/T/ipykernel_8068/220292751.py:9: FutureWarning: 'M' is deprecated and will be removed in a future version, please use 'ME' instead.\n",
      "  monthly_mean = df.resample('M').mean()\n"
     ]
    }
   ],
   "source": [
    "date_rng = pd.date_range(start = '2024-01-01', end = '2024-12-31', freq = 'D')\n",
    "df = pd.DataFrame(date_rng, columns = ['date'])\n",
    "df['data'] = np.random.randint(0, 100, size = (len(date_rng)))\n",
    "df.set_index('date', inplace = True)\n",
    "print(\"Original DataFrame:\")\n",
    "print(df)\n",
    "\n",
    "# Resample the DataFrame to compute the monthly mean of the values\n",
    "monthly_mean = df.resample('M').mean()\n",
    "print(\"Monthly mean DataFrame:\")\n",
    "print(monthly_mean)"
   ]
  },
  {
   "cell_type": "markdown",
   "metadata": {},
   "source": [
    "2. Create a Pandas DataFrame with a datetime index ranging from '2021-01-01' to '2021-12-31' and one column filled with random integers. Compute the rolling mean with a window of 7 days."
   ]
  },
  {
   "cell_type": "code",
   "execution_count": 11,
   "metadata": {},
   "outputs": [
    {
     "name": "stdout",
     "output_type": "stream",
     "text": [
      "Original DataFrame:\n",
      "            data\n",
      "date            \n",
      "2024-01-01    22\n",
      "2024-01-02    53\n",
      "2024-01-03    41\n",
      "2024-01-04    55\n",
      "2024-01-05    87\n",
      "...          ...\n",
      "2024-12-27    38\n",
      "2024-12-28     4\n",
      "2024-12-29    61\n",
      "2024-12-30    27\n",
      "2024-12-31    53\n",
      "\n",
      "[366 rows x 1 columns]\n",
      "Rolling mean DataFrame:\n",
      "                 data\n",
      "date                 \n",
      "2024-01-01        NaN\n",
      "2024-01-02        NaN\n",
      "2024-01-03        NaN\n",
      "2024-01-04        NaN\n",
      "2024-01-05        NaN\n",
      "...               ...\n",
      "2024-12-27  48.000000\n",
      "2024-12-28  43.571429\n",
      "2024-12-29  47.285714\n",
      "2024-12-30  44.428571\n",
      "2024-12-31  42.428571\n",
      "\n",
      "[366 rows x 1 columns]\n"
     ]
    }
   ],
   "source": [
    "# Create a Pandas DataFrame with a datetime index ranging from '2021-01-01' to '2021-12-31'\n",
    "date_rng = pd.date_range(start = '2024-01-01', end = '2024-12-31', freq = 'D')\n",
    "df = pd.DataFrame(date_rng, columns = ['date'])\n",
    "df['data'] = np.random.randint(0, 100, size = (len(date_rng)))\n",
    "df.set_index('date', inplace=True)\n",
    "print(\"Original DataFrame:\")\n",
    "print(df)\n",
    "\n",
    "# Compute the rolling mean with a window of 7 days\n",
    "rolling_mean = df.rolling(window = 7).mean()\n",
    "print(\"Rolling mean DataFrame:\")\n",
    "print(rolling_mean)"
   ]
  },
  {
   "cell_type": "markdown",
   "metadata": {},
   "source": [
    "### Assignment 7: MultiIndex DataFrame\n",
    "\n",
    "1. Create a Pandas DataFrame with a MultiIndex (hierarchical index). Perform some basic indexing and slicing operations on the MultiIndex DataFrame."
   ]
  },
  {
   "cell_type": "code",
   "execution_count": 9,
   "metadata": {},
   "outputs": [
    {
     "name": "stdout",
     "output_type": "stream",
     "text": [
      "MultiIndex DataFrame:\n",
      "                      Value1  Value2  Value3\n",
      "Category SubCategory                        \n",
      "A        one              77      73      87\n",
      "         two              81      49      10\n",
      "B        one              87      82      62\n",
      "         two              67      94      15\n",
      "Indexing at Category 'A':\n",
      "             Value1  Value2  Value3\n",
      "SubCategory                        \n",
      "one              77      73      87\n",
      "two              81      49      10\n",
      "Slicing at Category 'B' and SubCategory 'two':\n",
      "Value1    67\n",
      "Value2    94\n",
      "Value3    15\n",
      "Name: (B, two), dtype: int64\n"
     ]
    }
   ],
   "source": [
    "arrays = [['A', 'A', 'B', 'B'], ['one', 'two', 'one', 'two']]\n",
    "index = pd.MultiIndex.from_arrays(arrays, names = ('Category', 'SubCategory'))\n",
    "df = pd.DataFrame(np.random.randint(1, 100, size = (4, 3)), index = index, columns = ['Value1', 'Value2', 'Value3'])\n",
    "print(\"MultiIndex DataFrame:\")\n",
    "print(df)\n",
    "\n",
    "# Basic indexing and slicing operations\n",
    "print(\"Indexing at Category 'A':\")\n",
    "print(df.loc['A'])\n",
    "\n",
    "print(\"Slicing at Category 'B' and SubCategory 'two':\")\n",
    "print(df.loc[('B', 'two')])"
   ]
  },
  {
   "cell_type": "markdown",
   "metadata": {},
   "source": [
    "2. Create a Pandas DataFrame with MultiIndex consisting of 'Category' and 'SubCategory'. Fill the DataFrame with random data and compute the sum of values for each 'Category' and 'SubCategory'."
   ]
  },
  {
   "cell_type": "code",
   "execution_count": 10,
   "metadata": {},
   "outputs": [
    {
     "name": "stdout",
     "output_type": "stream",
     "text": [
      "MultiIndex DataFrame:\n",
      "                      Value1  Value2  Value3\n",
      "Category SubCategory                        \n",
      "A        one              89      85      19\n",
      "         two              52      84      17\n",
      "B        one              74      70       4\n",
      "         two              70      85      13\n",
      "C        one              42      39      43\n",
      "         two              77      76      15\n",
      "Sum of values:\n",
      "                      Value1  Value2  Value3\n",
      "Category SubCategory                        \n",
      "A        one              89      85      19\n",
      "         two              52      84      17\n",
      "B        one              74      70       4\n",
      "         two              70      85      13\n",
      "C        one              42      39      43\n",
      "         two              77      76      15\n"
     ]
    }
   ],
   "source": [
    "arrays = [['A', 'A', 'B', 'B', 'C', 'C'], ['one', 'two', 'one', 'two', 'one', 'two']]\n",
    "index = pd.MultiIndex.from_arrays(arrays, names = ('Category', 'SubCategory'))\n",
    "df = pd.DataFrame(np.random.randint(1, 100, size = (6, 3)), index = index, columns = ['Value1', 'Value2', 'Value3'])\n",
    "print(\"MultiIndex DataFrame:\")\n",
    "print(df)\n",
    "\n",
    "# Compute the sum of values for each 'Category' and 'SubCategory'\n",
    "sum_values = df.groupby(['Category', 'SubCategory']).sum()\n",
    "print(\"Sum of values:\")\n",
    "print(sum_values)"
   ]
  },
  {
   "cell_type": "markdown",
   "metadata": {},
   "source": [
    "### Assignment 8: Pivot Tables\n",
    "\n",
    "1. Create a Pandas DataFrame with columns 'Date', 'Category', and 'Value'. Create a pivot table to compute the sum of 'Value' for each 'Category' by 'Date'."
   ]
  },
  {
   "cell_type": "code",
   "execution_count": 3,
   "metadata": {},
   "outputs": [
    {
     "name": "stdout",
     "output_type": "stream",
     "text": [
      "Original DataFrame:\n",
      "         Date Category  Value\n",
      "0  2024-01-09        C     25\n",
      "1  2024-01-03        B     15\n",
      "2  2024-01-03        B     74\n",
      "3  2024-01-08        C     43\n",
      "4  2024-01-08        B     61\n",
      "5  2024-01-04        C     66\n",
      "6  2024-01-07        B      7\n",
      "7  2024-01-08        C     99\n",
      "8  2024-01-10        C     37\n",
      "9  2024-01-03        B     33\n",
      "10 2024-01-03        A     80\n",
      "11 2024-01-03        C     38\n",
      "12 2024-01-10        B     66\n",
      "13 2024-01-06        B     95\n",
      "14 2024-01-08        A     48\n",
      "15 2024-01-08        B     92\n",
      "16 2024-01-08        B     54\n",
      "17 2024-01-03        A      5\n",
      "18 2024-01-09        C     19\n",
      "19 2024-01-09        A     82\n",
      "Pivot Table:\n",
      "Category       A      B      C\n",
      "Date                          \n",
      "2024-01-03  85.0  122.0   38.0\n",
      "2024-01-04   NaN    NaN   66.0\n",
      "2024-01-06   NaN   95.0    NaN\n",
      "2024-01-07   NaN    7.0    NaN\n",
      "2024-01-08  48.0  207.0  142.0\n",
      "2024-01-09  82.0    NaN   44.0\n",
      "2024-01-10   NaN   66.0   37.0\n"
     ]
    }
   ],
   "source": [
    "date_rng = pd.date_range(start = '2024-01-01', end = '2024-01-10', freq = 'D')\n",
    "df = pd.DataFrame({'Date': np.random.choice(date_rng, size = 20), 'Category': np.random.choice(['A', 'B', 'C'], size = 20), 'Value': np.random.randint(1, 100, size = 20)})\n",
    "print(\"Original DataFrame:\")\n",
    "print(df)\n",
    "\n",
    "# Create a pivot table to compute the sum of 'Value' for each 'Category' by 'Date'\n",
    "pivot_table = df.pivot_table(values = 'Value', index = 'Date', columns = 'Category', aggfunc = 'sum')\n",
    "print(\"Pivot Table:\")\n",
    "print(pivot_table)"
   ]
  },
  {
   "cell_type": "markdown",
   "metadata": {},
   "source": [
    "2. Create a Pandas DataFrame with columns 'Year', 'Quarter', and 'Revenue'. Create a pivot table to compute the mean 'Revenue' for each 'Quarter' by 'Year'."
   ]
  },
  {
   "cell_type": "code",
   "execution_count": 4,
   "metadata": {},
   "outputs": [
    {
     "name": "stdout",
     "output_type": "stream",
     "text": [
      "Original DataFrame:\n",
      "    Year Quarter  Revenue\n",
      "0   2022      Q2      549\n",
      "1   2023      Q1      730\n",
      "2   2022      Q3      938\n",
      "3   2022      Q4      903\n",
      "4   2022      Q3      224\n",
      "5   2023      Q1      248\n",
      "6   2023      Q1      987\n",
      "7   2024      Q2      535\n",
      "8   2022      Q4      470\n",
      "9   2023      Q4      362\n",
      "10  2023      Q3      854\n",
      "11  2024      Q4      983\n",
      "Pivot Table:\n",
      "Quarter     Q1     Q2     Q3     Q4\n",
      "Year                               \n",
      "2022       NaN  549.0  581.0  686.5\n",
      "2023     655.0    NaN  854.0  362.0\n",
      "2024       NaN  535.0    NaN  983.0\n"
     ]
    }
   ],
   "source": [
    "df = pd.DataFrame({'Year': np.random.choice([2022, 2023, 2024], size = 12), 'Quarter': np.random.choice(['Q1', 'Q2', 'Q3', 'Q4'], size = 12), 'Revenue': np.random.randint(1, 1000, size = 12)})\n",
    "print(\"Original DataFrame:\")\n",
    "print(df)\n",
    "\n",
    "# Create a pivot table to compute the mean 'Revenue' for each 'Quarter' by 'Year'\n",
    "pivot_table = df.pivot_table(values = 'Revenue', index = 'Year', columns = 'Quarter', aggfunc = 'mean')\n",
    "print(\"Pivot Table:\")\n",
    "print(pivot_table)"
   ]
  },
  {
   "cell_type": "markdown",
   "metadata": {},
   "source": [
    "### Assignment 9: Applying Functions\n",
    "\n",
    "1. Create a Pandas DataFrame with 3 columns and 5 rows filled with random integers. Apply a function that doubles the values of the DataFrame."
   ]
  },
  {
   "cell_type": "code",
   "execution_count": 5,
   "metadata": {},
   "outputs": [
    {
     "name": "stdout",
     "output_type": "stream",
     "text": [
      "Original DataFrame:\n",
      "    A   B   C\n",
      "0  78  52  60\n",
      "1  79  41  19\n",
      "2  91   6  82\n",
      "3  15  39  91\n",
      "4  54  47  44\n",
      "Doubled DataFrame:\n",
      "     A    B    C\n",
      "0  156  104  120\n",
      "1  158   82   38\n",
      "2  182   12  164\n",
      "3   30   78  182\n",
      "4  108   94   88\n"
     ]
    },
    {
     "name": "stderr",
     "output_type": "stream",
     "text": [
      "/var/folders/84/qnl770ks2kvg7mwlfgc5k1cw0000gn/T/ipykernel_8532/2107445931.py:6: FutureWarning: DataFrame.applymap has been deprecated. Use DataFrame.map instead.\n",
      "  df_doubled = df.applymap(lambda x: x * 2)\n"
     ]
    }
   ],
   "source": [
    "df = pd.DataFrame(np.random.randint(1, 100, size = (5, 3)), columns = ['A', 'B', 'C'])\n",
    "print(\"Original DataFrame:\")\n",
    "print(df)\n",
    "\n",
    "# Apply a function that doubles the values of the DataFrame\n",
    "df_doubled = df.applymap(lambda x: x * 2)\n",
    "print(\"Doubled DataFrame:\")\n",
    "print(df_doubled)"
   ]
  },
  {
   "cell_type": "markdown",
   "metadata": {},
   "source": [
    "2. Create a Pandas DataFrame with 3 columns and 6 rows filled with random integers. Apply a lambda function to create a new column that is the sum of the existing columns."
   ]
  },
  {
   "cell_type": "code",
   "execution_count": 6,
   "metadata": {},
   "outputs": [
    {
     "name": "stdout",
     "output_type": "stream",
     "text": [
      "Original DataFrame:\n",
      "    A   B   C\n",
      "0  16  78  69\n",
      "1   9  81   7\n",
      "2  31  61  21\n",
      "3  84  84  19\n",
      "4  86  76  11\n",
      "5  72  47  66\n",
      "DataFrame with Sum column:\n",
      "    A   B   C  Sum\n",
      "0  16  78  69  163\n",
      "1   9  81   7   97\n",
      "2  31  61  21  113\n",
      "3  84  84  19  187\n",
      "4  86  76  11  173\n",
      "5  72  47  66  185\n"
     ]
    }
   ],
   "source": [
    "# Create a Pandas DataFrame with 3 columns and 6 rows filled with random integers\n",
    "df = pd.DataFrame(np.random.randint(1, 100, size = (6, 3)), columns = ['A', 'B', 'C'])\n",
    "print(\"Original DataFrame:\")\n",
    "print(df)\n",
    "\n",
    "# Apply a lambda function to create a new column that is the sum of the existing columns\n",
    "df['Sum'] = df.apply(lambda row: row.sum(), axis = 1)\n",
    "print(\"DataFrame with Sum column:\")\n",
    "print(df)"
   ]
  },
  {
   "cell_type": "markdown",
   "metadata": {},
   "source": [
    "### Assignment 10: Working with Text Data\n",
    "\n",
    "1. Create a Pandas Series with 5 random text strings. Convert all the strings to uppercase."
   ]
  },
  {
   "cell_type": "code",
   "execution_count": 7,
   "metadata": {},
   "outputs": [
    {
     "name": "stdout",
     "output_type": "stream",
     "text": [
      "Original Series:\n",
      "0        apple\n",
      "1       banana\n",
      "2       cherry\n",
      "3         plum\n",
      "4    blueberry\n",
      "dtype: object\n",
      "Uppercase Series:\n",
      "0        APPLE\n",
      "1       BANANA\n",
      "2       CHERRY\n",
      "3         PLUM\n",
      "4    BLUEBERRY\n",
      "dtype: object\n"
     ]
    }
   ],
   "source": [
    "text_data = pd.Series(['apple', 'banana', 'cherry', 'plum', 'blueberry'])\n",
    "print(\"Original Series:\")\n",
    "print(text_data)\n",
    "\n",
    "# Convert all the strings to uppercase\n",
    "uppercase_data = text_data.str.upper()\n",
    "print(\"Uppercase Series:\")\n",
    "print(uppercase_data)"
   ]
  },
  {
   "cell_type": "markdown",
   "metadata": {},
   "source": [
    "2. Create a Pandas Series with 5 random text strings. Extract the first three characters of each string."
   ]
  },
  {
   "cell_type": "code",
   "execution_count": 8,
   "metadata": {},
   "outputs": [
    {
     "name": "stdout",
     "output_type": "stream",
     "text": [
      "Original Series:\n",
      "0        apple\n",
      "1       banana\n",
      "2       cherry\n",
      "3         plum\n",
      "4    blueberry\n",
      "dtype: object\n",
      "First three characters:\n",
      "0    app\n",
      "1    ban\n",
      "2    che\n",
      "3    plu\n",
      "4    blu\n",
      "dtype: object\n"
     ]
    }
   ],
   "source": [
    "text_data = pd.Series(['apple', 'banana', 'cherry', 'plum', 'blueberry'])\n",
    "print(\"Original Series:\")\n",
    "print(text_data)\n",
    "\n",
    "# Extract the first three characters of each string\n",
    "first_three_chars = text_data.str[:3]\n",
    "print(\"First three characters:\")\n",
    "print(first_three_chars)"
   ]
  }
 ],
 "metadata": {
  "kernelspec": {
   "display_name": "Python 3",
   "language": "python",
   "name": "python3"
  },
  "language_info": {
   "codemirror_mode": {
    "name": "ipython",
    "version": 3
   },
   "file_extension": ".py",
   "mimetype": "text/x-python",
   "name": "python",
   "nbconvert_exporter": "python",
   "pygments_lexer": "ipython3",
   "version": "3.11.3"
  }
 },
 "nbformat": 4,
 "nbformat_minor": 5
}
